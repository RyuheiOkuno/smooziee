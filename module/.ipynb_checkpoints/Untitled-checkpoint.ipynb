{
 "cells": [
  {
   "cell_type": "code",
   "execution_count": 33,
   "metadata": {},
   "outputs": [],
   "source": [
    "import pandas as pd\n",
    "import sys\n",
    "import os\n",
    "import imp\n",
    "import numpy as np\n",
    "import matplotlib.pyplot as plt\n",
    "from scipy.signal import argrelmax\n",
    "filename = \"/home/mizokami-ubuntu/Github/peakfit/test/KCl_GXL511_m0p25_RT_4\""
   ]
  },
  {
   "cell_type": "code",
   "execution_count": 20,
   "metadata": {},
   "outputs": [
    {
     "name": "stdout",
     "output_type": "stream",
     "text": [
      "Index(['meV', 'meV_shf', 'tmk_lin', 'npts', 'secs', 'norm', 'a4', 'error',\n",
      "       'y_unitpk', 'error.1', 'ytc', 'ytce'],\n",
      "      dtype='object')\n"
     ]
    }
   ],
   "source": [
    "df = pd.read_csv(filename, sep='\\s+')\n",
    "print(df.keys())"
   ]
  },
  {
   "cell_type": "code",
   "execution_count": 27,
   "metadata": {},
   "outputs": [
    {
     "data": {
      "image/png": "[encoded data removed]",
      "text/plain": [
       "<matplotlib.figure.Figure at 0x7fda84f947f0>"
      ]
     },
     "metadata": {},
     "output_type": "display_data"
    }
   ],
   "source": [
    "df.plot.scatter(x='meV', y='y_unitpk', s=1)\n",
    "plt.show()"
   ]
  },
  {
   "cell_type": "code",
   "execution_count": 37,
   "metadata": {},
   "outputs": [
    {
     "name": "stdout",
     "output_type": "stream",
     "text": [
      "[ 0.00539   0.005586  0.001146  0.004639  0.006848  0.002262  0.009182\n",
      "  0.008008  0.003119  0.01296   0.009235  0.01023   0.006169  0.01774\n",
      "  0.01589   0.02107   0.01822   0.02229   0.0271    0.0198    0.01799\n",
      "  0.03092   0.02551   0.01943   0.01501   0.01081   0.01712   0.02211\n",
      "  0.01669   0.02085   0.03086   0.008421  0.03993   0.04828   0.06207\n",
      "  0.07638   0.1077    0.09196   0.07002   0.02309   0.        0.05124\n",
      "  0.03514   0.02547   0.02793   0.03464   0.02368   0.0286    0.03349\n",
      "  0.02688   0.0295    0.0274    0.02978   0.03389   0.04266   0.04498\n",
      "  0.06721   0.08379   0.1558    0.2247    0.504     0.8466    1.        0.9352\n",
      "  0.6081    0.4038    0.1993    0.1447    0.08137   0.06518   0.05174\n",
      "  0.03847   0.04      0.05087   0.03928   0.03445   0.02585   0.03141\n",
      "  0.03328   0.04106   0.03212   0.03022   0.03096   0.03778   0.03685\n",
      "  0.02654   0.0408    0.03899   0.03408   0.03688   0.03498   0.04256\n",
      "  0.04452   0.04881   0.05128   0.0881    0.1531    0.2327    0.2027\n",
      "  0.1402    0.08804   0.0591    0.05058   0.03623   0.04151   0.04613\n",
      "  0.03985   0.04249   0.04422   0.04415   0.05062   0.06202   0.06664\n",
      "  0.06117   0.0632    0.06977   0.05518   0.05196   0.04005   0.04132\n",
      "  0.03331   0.02942   0.03723   0.02931   0.02114   0.01797   0.02042\n",
      "  0.02119   0.01577   0.01141   0.00878   0.008907  0.01281 ]\n",
      "(array([  1,   4,   6,   9,  11,  13,  15,  18,  21,  27,  30,  36,  41,\n",
      "        45,  48,  50,  62,  73,  79,  83,  86,  89,  97, 105, 108, 112,\n",
      "       115, 119, 122, 127]),)\n"
     ]
    }
   ],
   "source": [
    "y=np.array(df['y_unitpk'])\n",
    "print(y)\n",
    "print(argrelmax(y))"
   ]
  },
  {
   "cell_type": "code",
   "execution_count": null,
   "metadata": {},
   "outputs": [],
   "source": [
    "df.plot.scatter(x='meV', y='y_unitpk', s=1)\n",
    "plt.show()"
   ]
  },
  {
   "cell_type": "code",
   "execution_count": null,
   "metadata": {},
   "outputs": [],
   "source": []
  }
 ],
 "metadata": {
  "kernelspec": {
   "display_name": "Python 3",
   "language": "python",
   "name": "python3"
  },
  "language_info": {
   "codemirror_mode": {
    "name": "ipython",
    "version": 3
   },
   "file_extension": ".py",
   "mimetype": "text/x-python",
   "name": "python",
   "nbconvert_exporter": "python",
   "pygments_lexer": "ipython3",
   "version": "3.6.3"
  }
 },
 "nbformat": 4,
 "nbformat_minor": 2
}
