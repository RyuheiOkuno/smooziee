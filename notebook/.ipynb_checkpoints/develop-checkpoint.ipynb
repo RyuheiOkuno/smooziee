{
 "cells": [
  {
   "cell_type": "code",
   "execution_count": 139,
   "metadata": {
    "collapsed": true
   },
   "outputs": [],
   "source": [
    "import sys\n",
    "import imp\n",
    "import smooziee.module.phonon_scattering as ph_scat\n",
    "import smooziee.module.math_tools as c_tools\n",
    "imp.reload(ph_scat)\n",
    "imp.reload(c_tools)\n",
    "import matplotlib.pyplot as plt"
   ]
  },
  {
   "cell_type": "code",
   "execution_count": 140,
   "metadata": {
    "collapsed": true
   },
   "outputs": [],
   "source": [
    "### experimental file name\n",
    "filename = \"/Users/keiyu/Github/smooziee/example/KCl_GXL511_m0p25_RT_4\""
   ]
  },
  {
   "cell_type": "code",
   "execution_count": 141,
   "metadata": {},
   "outputs": [
    {
     "ename": "TypeError",
     "evalue": "make_grid_param() got an unexpected keyword argument 'notice'",
     "output_type": "error",
     "traceback": [
      "\u001b[0;31m---------------------------------------------------------------------------\u001b[0m",
      "\u001b[0;31mTypeError\u001b[0m                                 Traceback (most recent call last)",
      "\u001b[0;32m<ipython-input-141-4d1e60813800>\u001b[0m in \u001b[0;36m<module>\u001b[0;34m()\u001b[0m\n\u001b[1;32m     15\u001b[0m \u001b[0mdata\u001b[0m\u001b[0;34m.\u001b[0m\u001b[0minitial_fit\u001b[0m\u001b[0;34m(\u001b[0m\u001b[0midx_range\u001b[0m\u001b[0;34m=\u001b[0m\u001b[0midx_range\u001b[0m\u001b[0;34m,\u001b[0m \u001b[0mnotice\u001b[0m\u001b[0;34m=\u001b[0m\u001b[0;32mFalse\u001b[0m\u001b[0;34m)\u001b[0m\u001b[0;34m\u001b[0m\u001b[0m\n\u001b[1;32m     16\u001b[0m \u001b[0mgrid_param\u001b[0m \u001b[0;34m=\u001b[0m \u001b[0;34m{\u001b[0m\u001b[0;34m'A'\u001b[0m\u001b[0;34m:\u001b[0m\u001b[0;34m[\u001b[0m\u001b[0;36m1\u001b[0m\u001b[0;34m,\u001b[0m \u001b[0;36m0.02\u001b[0m\u001b[0;34m]\u001b[0m\u001b[0;34m,\u001b[0m \u001b[0;34m'x0'\u001b[0m\u001b[0;34m:\u001b[0m\u001b[0;34m[\u001b[0m\u001b[0;36m3\u001b[0m\u001b[0;34m,\u001b[0m \u001b[0;36m0.5\u001b[0m\u001b[0;34m]\u001b[0m\u001b[0;34m,\u001b[0m \u001b[0;34m'd'\u001b[0m\u001b[0;34m:\u001b[0m\u001b[0;34m[\u001b[0m\u001b[0;36m3\u001b[0m\u001b[0;34m,\u001b[0m \u001b[0;36m0.02\u001b[0m\u001b[0;34m]\u001b[0m\u001b[0;34m}\u001b[0m\u001b[0;34m\u001b[0m\u001b[0m\n\u001b[0;32m---> 17\u001b[0;31m \u001b[0mdata\u001b[0m\u001b[0;34m.\u001b[0m\u001b[0mmake_grid_param\u001b[0m\u001b[0;34m(\u001b[0m\u001b[0mgrid_param\u001b[0m\u001b[0;34m,\u001b[0m \u001b[0mnotice\u001b[0m\u001b[0;34m=\u001b[0m\u001b[0;32mFalse\u001b[0m\u001b[0;34m)\u001b[0m\u001b[0;34m\u001b[0m\u001b[0m\n\u001b[0m\u001b[1;32m     18\u001b[0m \u001b[0mdata\u001b[0m\u001b[0;34m.\u001b[0m\u001b[0mgrid_search\u001b[0m\u001b[0;34m(\u001b[0m\u001b[0mnotice\u001b[0m\u001b[0;34m=\u001b[0m\u001b[0;32mFalse\u001b[0m\u001b[0;34m)\u001b[0m\u001b[0;34m\u001b[0m\u001b[0m\n\u001b[1;32m     19\u001b[0m \u001b[0;31m# grid_param = {'A':[1, 0.02], 'x0':[3, 0.5], 'd':[3, 0.02]}\u001b[0m\u001b[0;34m\u001b[0m\u001b[0;34m\u001b[0m\u001b[0m\n",
      "\u001b[0;32m~/Github/smooziee/module/phonon_scattering.py\u001b[0m in \u001b[0;36mmake_grid_param\u001b[0;34m(self, param_nw_dic, notice)\u001b[0m\n\u001b[1;32m    168\u001b[0m             \u001b[0mparam_info_dic\u001b[0m\u001b[0;34m[\u001b[0m\u001b[0;34m'd_'\u001b[0m\u001b[0;34m+\u001b[0m\u001b[0mstr\u001b[0m\u001b[0;34m(\u001b[0m\u001b[0mi\u001b[0m\u001b[0;34m)\u001b[0m\u001b[0;34m]\u001b[0m \u001b[0;34m=\u001b[0m\u001b[0;31m \u001b[0m\u001b[0;31m\\\u001b[0m\u001b[0;34m\u001b[0m\u001b[0m\n\u001b[1;32m    169\u001b[0m               \u001b[0;34m[\u001b[0m\u001b[0mparam\u001b[0m\u001b[0;34m[\u001b[0m\u001b[0;36m2\u001b[0m\u001b[0;34m]\u001b[0m\u001b[0;34m,\u001b[0m \u001b[0mparam_nw_dic\u001b[0m\u001b[0;34m[\u001b[0m\u001b[0;34m'd'\u001b[0m\u001b[0;34m]\u001b[0m\u001b[0;34m[\u001b[0m\u001b[0;36m0\u001b[0m\u001b[0;34m]\u001b[0m\u001b[0;34m,\u001b[0m \u001b[0mparam_nw_dic\u001b[0m\u001b[0;34m[\u001b[0m\u001b[0;34m'd'\u001b[0m\u001b[0;34m]\u001b[0m\u001b[0;34m[\u001b[0m\u001b[0;36m1\u001b[0m\u001b[0;34m]\u001b[0m\u001b[0;34m]\u001b[0m\u001b[0;34m\u001b[0m\u001b[0m\n\u001b[0;32m--> 170\u001b[0;31m         \u001b[0mparam_lst\u001b[0m \u001b[0;34m=\u001b[0m \u001b[0mmath_tools\u001b[0m\u001b[0;34m.\u001b[0m\u001b[0mmake_grid_param\u001b[0m\u001b[0;34m(\u001b[0m\u001b[0mparam_info_dic\u001b[0m\u001b[0;34m,\u001b[0m \u001b[0mnotice\u001b[0m\u001b[0;34m=\u001b[0m\u001b[0mnotice\u001b[0m\u001b[0;34m)\u001b[0m\u001b[0;34m\u001b[0m\u001b[0m\n\u001b[0m\u001b[1;32m    171\u001b[0m         \u001b[0;32mif\u001b[0m \u001b[0mnotice\u001b[0m\u001b[0;34m:\u001b[0m\u001b[0;34m\u001b[0m\u001b[0m\n\u001b[1;32m    172\u001b[0m             \u001b[0mprint\u001b[0m\u001b[0;34m(\u001b[0m\u001b[0;34m\"initial param num is %s\"\u001b[0m \u001b[0;34m%\u001b[0m \u001b[0mstr\u001b[0m\u001b[0;34m(\u001b[0m\u001b[0mlen\u001b[0m\u001b[0;34m(\u001b[0m\u001b[0mparam_lst\u001b[0m\u001b[0;34m)\u001b[0m\u001b[0;34m)\u001b[0m\u001b[0;34m)\u001b[0m\u001b[0;34m\u001b[0m\u001b[0m\n",
      "\u001b[0;31mTypeError\u001b[0m: make_grid_param() got an unexpected keyword argument 'notice'"
     ]
    }
   ],
   "source": [
    "### make grid parameter\n",
    "# varivable\n",
    "order = 10\n",
    "threshold = 6\n",
    "idx_range = 10\n",
    "\n",
    "# main\n",
    "fig = plt.figure(figsize=(12, 10))\n",
    "ax1 = fig.add_subplot(221)\n",
    "ax2 = fig.add_subplot(222)\n",
    "ax3 = fig.add_subplot(212)\n",
    "data = ph_scat.Process(filename)\n",
    "data.find_peak(order=order, notice=False)\n",
    "data.find_peak_pair(threshold=threshold, notice=False)\n",
    "data.initial_fit(idx_range=idx_range, notice=False)\n",
    "grid_param = {'A':[1, 0.02], 'x0':[3, 0.5], 'd':[3, 0.02]}\n",
    "data.make_grid_param(grid_param, notice=False)\n",
    "data.grid_search(notice=False)\n",
    "# grid_param = {'A':[1, 0.02], 'x0':[3, 0.5], 'd':[3, 0.02]}\n",
    "# data.make_grid_param(grid_param, notice=False)\n",
    "# data.grid_search(notice=False)\n",
    "# grid_param = {'A':[1, 0.02], 'x0':[1, 0.5], 'd':[9, 0.02]}\n",
    "# data.make_grid_param(grid_param, notice=False)\n",
    "# data.grid_search(notice=False)\n",
    "grid_param = {'A':[1, 0.02], 'x0':[1, 0.5], 'd':[9, 0.02]}\n",
    "data.make_grid_param(grid_param, notice=False)\n",
    "data.grid_search(notice=False)\n",
    "data.plot(ax1, run_mode='raw_data')\n",
    "data.plot(ax2, run_mode='peak')\n",
    "data.plot(ax3)\n",
    "plt.show()"
   ]
  },
  {
   "cell_type": "code",
   "execution_count": null,
   "metadata": {
    "collapsed": true
   },
   "outputs": [],
   "source": []
  }
 ],
 "metadata": {
  "kernelspec": {
   "display_name": "Python 3",
   "language": "python",
   "name": "python3"
  },
  "language_info": {
   "codemirror_mode": {
    "name": "ipython",
    "version": 3
   },
   "file_extension": ".py",
   "mimetype": "text/x-python",
   "name": "python",
   "nbconvert_exporter": "python",
   "pygments_lexer": "ipython3",
   "version": "3.6.3"
  }
 },
 "nbformat": 4,
 "nbformat_minor": 2
}
